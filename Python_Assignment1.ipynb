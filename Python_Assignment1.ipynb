{
  "cells": [
    {
      "cell_type": "code",
      "execution_count": null,
      "metadata": {
        "colab": {
          "base_uri": "https://localhost:8080/"
        },
        "id": "XhpUAknUbBwe",
        "outputId": "7691d382-f205-46fa-e760-7b383ced0811"
      },
      "outputs": [
        {
          "name": "stdout",
          "output_type": "stream",
          "text": [
            "[1505, 1540, 1575, 1610, 1645, 1680, 1715, 1750, 1785, 1820, 1855, 1890, 1925, 1960, 1995, 2030, 2065, 2100, 2135, 2170, 2205, 2240, 2275, 2310, 2345, 2380, 2415, 2450, 2485, 2520, 2555, 2590, 2625, 2660, 2695]\n"
          ]
        }
      ],
      "source": [
        "\"\"\"Write a Python program to find those numbers which are divisible by 7 and multiples of 5, between 1500 and 2700 (both included).\n",
        "\"\"\"\n",
        "numbers = []\n",
        "i = 1500\n",
        "while i <= 2700:\n",
        "  if i % 7 == 0 and i % 5 == 0:\n",
        "    numbers.append(i)\n",
        "  i += 1\n",
        "print(numbers)\n"
      ]
    },
    {
      "cell_type": "code",
      "execution_count": null,
      "metadata": {
        "colab": {
          "base_uri": "https://localhost:8080/"
        },
        "id": "F1xNKlRcc16F",
        "outputId": "1556c1d4-5186-4757-8c2d-b9639988e8d5"
      },
      "outputs": [
        {
          "name": "stdout",
          "output_type": "stream",
          "text": [
            "Guess a random number between 1 and 9\n",
            "1\n",
            "try again\n",
            "2\n",
            "try again\n",
            "3\n",
            "try again\n",
            "4\n",
            "try again\n",
            "5\n",
            "Congratulations, true guess\n"
          ]
        }
      ],
      "source": [
        "import random\n",
        "true_num = random.randint(1, 9)\n",
        "print(\"Guess a random number between 1 and 9\")\n",
        "while True:\n",
        "  num = int(input())\n",
        "  if num == true_num:\n",
        "    print(\"Congratulations, true guess\")\n",
        "    break\n",
        "  else:\n",
        "    print(\"try again\")\n"
      ]
    },
    {
      "cell_type": "code",
      "execution_count": null,
      "metadata": {
        "colab": {
          "base_uri": "https://localhost:8080/"
        },
        "id": "ByLAQ556eOl3",
        "outputId": "5ac85599-ed74-4508-b240-4b207c5979ad"
      },
      "outputs": [
        {
          "name": "stdout",
          "output_type": "stream",
          "text": [
            "0 1 2 4 5 "
          ]
        }
      ],
      "source": [
        "for i in range(6):\n",
        "  if i == 3:\n",
        "    continue\n",
        "  print(i, end=\" \")"
      ]
    },
    {
      "cell_type": "code",
      "execution_count": null,
      "metadata": {
        "id": "J83NJOpae2fc",
        "colab": {
          "base_uri": "https://localhost:8080/"
        },
        "outputId": "a7f41441-3ad0-4032-8541-cb0b50a2a8f1"
      },
      "outputs": [
        {
          "output_type": "stream",
          "name": "stdout",
          "text": [
            "*\n",
            "**\n",
            "***\n",
            "****\n",
            "*****\n",
            "****\n",
            "***\n",
            "**\n",
            "*\n"
          ]
        }
      ],
      "source": [
        "for i in range(1, 6):\n",
        "  for j in range(1, i+1):\n",
        "    print(\"*\", end=\"\")\n",
        "  print()\n",
        "i = 4\n",
        "while i > 0:\n",
        "  for j in range(1, i+1):\n",
        "    print(\"*\", end=\"\")\n",
        "  print()\n",
        "  i -= 1"
      ]
    },
    {
      "cell_type": "code",
      "execution_count": null,
      "metadata": {
        "colab": {
          "base_uri": "https://localhost:8080/"
        },
        "id": "2GgDwwP4e2zP",
        "outputId": "225871b1-af0c-4b5d-9177-7219a998fe90"
      },
      "outputs": [
        {
          "name": "stdout",
          "output_type": "stream",
          "text": [
            "enter any word: ABC\n",
            "the reverse is CBA\n"
          ]
        }
      ],
      "source": [
        "word = input(\"enter any word: \")\n",
        "rev_word = \"\"\n",
        "i = len(word) - 1\n",
        "while i >= 0:\n",
        "  rev_word += word[i]\n",
        "  i -= 1\n",
        "print(f\"the reverse is {rev_word}\")"
      ]
    },
    {
      "cell_type": "code",
      "execution_count": null,
      "metadata": {
        "colab": {
          "base_uri": "https://localhost:8080/"
        },
        "id": "TIayztjof7Cy",
        "outputId": "7e6d8def-6bfb-436e-dcc1-00b3b719240b"
      },
      "outputs": [
        {
          "name": "stdout",
          "output_type": "stream",
          "text": [
            "[1, 2, 3, 4, 5, 6, 7, 8, 9]\n",
            "number of evens = 4\n",
            "number of odds = 5\n"
          ]
        }
      ],
      "source": [
        "nums = [i for i in range(1, 10)]\n",
        "even = 0\n",
        "odd = 0\n",
        "for i in range(len(nums)):\n",
        "  if nums[i] % 2 == 0:\n",
        "    even += 1\n",
        "  else:\n",
        "    odd += 1\n",
        "print(nums)\n",
        "print(f\"number of evens = {even}\")\n",
        "print(f\"number of odds = {odd}\")"
      ]
    },
    {
      "cell_type": "code",
      "execution_count": null,
      "metadata": {
        "id": "u9EBRQIChBSV"
      },
      "outputs": [],
      "source": [
        "# First letter !!!!!!!!!!!!!!!!!!"
      ]
    },
    {
      "cell_type": "code",
      "execution_count": null,
      "metadata": {
        "colab": {
          "base_uri": "https://localhost:8080/"
        },
        "id": "6ln5y03vhv3i",
        "outputId": "1aa4bfd3-757b-4f08-b23c-55f019bf06f1"
      },
      "outputs": [
        {
          "output_type": "stream",
          "name": "stdout",
          "text": [
            "1 22 333 4444 55555 666666 7777777 88888888 999999999 "
          ]
        }
      ],
      "source": [
        "for i in range(1, 10):\n",
        "  j = i\n",
        "  for j in range(i):\n",
        "    print(i, end=\"\")\n",
        "  print(\" \", end=\"\")"
      ]
    },
    {
      "cell_type": "code",
      "execution_count": null,
      "metadata": {
        "colab": {
          "base_uri": "https://localhost:8080/"
        },
        "id": "xK68M4cVkF0H",
        "outputId": "9fa3c4b0-af60-4c43-c0ee-1ff965b1fa28"
      },
      "outputs": [
        {
          "name": "stdout",
          "output_type": "stream",
          "text": [
            "6\n",
            "6 * 1 = 6\n",
            "6 * 2 = 12\n",
            "6 * 3 = 18\n",
            "6 * 4 = 24\n",
            "6 * 5 = 30\n",
            "6 * 6 = 36\n",
            "6 * 7 = 42\n",
            "6 * 8 = 48\n",
            "6 * 9 = 54\n"
          ]
        }
      ],
      "source": [
        "num = int(input())\n",
        "for i in range(1, 10):\n",
        "    print(f\"{num} * {i} = {i*num}\")"
      ]
    },
    {
      "cell_type": "code",
      "execution_count": null,
      "metadata": {
        "colab": {
          "base_uri": "https://localhost:8080/"
        },
        "id": "NT14yxM2k2IQ",
        "outputId": "1271a520-01e1-4607-f793-76e3caaa5e42"
      },
      "outputs": [
        {
          "name": "stdout",
          "output_type": "stream",
          "text": [
            "Enter a group of integer numbers but not zero: \n",
            "10\n",
            "20\n",
            "30\n",
            "40\n",
            "50\n",
            "0\n",
            "Sum = 150\n",
            "Avarage = 30.0\n"
          ]
        }
      ],
      "source": [
        "numbers = []\n",
        "print(\"Enter a group of integer numbers but not zero: \")\n",
        "while True:\n",
        "  num = int(input())\n",
        "  if num == 0:\n",
        "    break\n",
        "  else:\n",
        "    numbers.append(num)\n",
        "sum = 0\n",
        "avg = 0\n",
        "for i in range(len(numbers)):\n",
        "  sum += numbers[i]\n",
        "avg = sum/len(numbers)\n",
        "print(f\"Sum = {sum}\")\n",
        "print(f\"Avarage = {avg}\")\n"
      ]
    },
    {
      "cell_type": "code",
      "execution_count": null,
      "metadata": {
        "colab": {
          "base_uri": "https://localhost:8080/"
        },
        "id": "XQeuY0jJmBK4",
        "outputId": "9fb83480-741c-4a15-9716-aef4f27b10cc"
      },
      "outputs": [
        {
          "output_type": "stream",
          "name": "stdout",
          "text": [
            "5\n",
            "3\n"
          ]
        }
      ],
      "source": [
        "fib = []\n",
        "# 0 1 1 2 3 5 8 13\n",
        "num = int(input())\n",
        "for i in range(num):\n",
        "  if i == 0 or i == 1:\n",
        "    fib.append(i)\n",
        "  else:\n",
        "    fib.append(fib[i-1] + fib[i-2])\n",
        "print(fib[-1])"
      ]
    },
    {
      "cell_type": "code",
      "execution_count": null,
      "metadata": {
        "colab": {
          "base_uri": "https://localhost:8080/"
        },
        "id": "Z6gMh08RsTUf",
        "outputId": "d9af8ac6-e607-49d9-b319-d76c266dea4b"
      },
      "outputs": [
        {
          "name": "stdout",
          "output_type": "stream",
          "text": [
            "70\n"
          ]
        }
      ],
      "source": [
        "numbers = [10, 20, 30, 50, 40, 70]\n",
        "max = 0\n",
        "for i in range (len(numbers)):\n",
        "  if numbers[i] > max:\n",
        "    max = numbers[i]\n",
        "print (max)"
      ]
    },
    {
      "cell_type": "code",
      "execution_count": null,
      "metadata": {
        "colab": {
          "base_uri": "https://localhost:8080/"
        },
        "id": "lEyuUCdGscVa",
        "outputId": "3414c254-e7d4-4ee8-9372-b99185554e54"
      },
      "outputs": [
        {
          "name": "stdout",
          "output_type": "stream",
          "text": [
            "number of vowels in 'Localization' = 6\n"
          ]
        }
      ],
      "source": [
        "count = 0\n",
        "word = 'Localization'\n",
        "vowels = ['a', 'e', 'i', 'o', 'u', 'y', 'h']\n",
        "for letter in word:\n",
        "  for i in range(len(vowels)):\n",
        "    if letter == vowels[i]:\n",
        "      count += 1\n",
        "      break\n",
        "print(f\"number of vowels in '{word}' = {count}\")"
      ]
    },
    {
      "cell_type": "code",
      "execution_count": null,
      "metadata": {
        "colab": {
          "base_uri": "https://localhost:8080/"
        },
        "id": "atzzd23psjbO",
        "outputId": "23d7adf8-a8ad-499f-e228-df53bd250d21"
      },
      "outputs": [
        {
          "name": "stdout",
          "output_type": "stream",
          "text": [
            "prime numbers in range (1, 10): [2, 3, 5, 7, 11, 13, 17, 19]\n"
          ]
        }
      ],
      "source": [
        "primes = []\n",
        "for i in range(21):\n",
        "  if i > 1:\n",
        "    for j in range (2, i):\n",
        "      if i % j == 0:\n",
        "        break\n",
        "    else:\n",
        "      primes.append(i)\n",
        "\n",
        "print(f\"prime numbers in range (1, 20): {primes}\")\n"
      ]
    },
    {
      "cell_type": "code",
      "execution_count": null,
      "metadata": {
        "colab": {
          "base_uri": "https://localhost:8080/"
        },
        "id": "LKZTLej8soLL",
        "outputId": "157561b1-490d-4034-ce56-bbb2df2a2ecd"
      },
      "outputs": [
        {
          "name": "stdout",
          "output_type": "stream",
          "text": [
            "enter the amount of withdrawal: 500\n",
            "Successful withdrawl, you withraw 500\n",
            "Your balance = 0\n",
            "enter the amount of withdrawal: 30\n",
            "unsuccessful withraw, not enough balance\n"
          ]
        }
      ],
      "source": [
        "balance = 500\n",
        "while True:\n",
        "  num = int(input(\"enter the amount of withdrawal: \"))\n",
        "  balance -= num\n",
        "  if balance >= 0:\n",
        "    print(f\"Successful withdrawl, you withraw {num}\")\n",
        "    print(f\"Your balance = {balance}\")\n",
        "  else:\n",
        "    print(\"unsuccessful withraw, not enough balance\")\n",
        "    break"
      ]
    },
    {
      "cell_type": "code",
      "execution_count": null,
      "metadata": {
        "colab": {
          "base_uri": "https://localhost:8080/"
        },
        "id": "O_oWg_Lms2u2",
        "outputId": "90f93e32-9838-49bf-d1d2-2887a67986a3"
      },
      "outputs": [
        {
          "name": "stdout",
          "output_type": "stream",
          "text": [
            "5 is a common item between the two lists\n"
          ]
        }
      ],
      "source": [
        "lst1 = ['A', 1, 3, 5, 'B']\n",
        "lst2 = [\"ABC\", 4, 2, 8, 5]\n",
        "for i in range(len(lst1)):\n",
        "  for j in range(len(lst2)):\n",
        "    if lst2[j] == lst1[i]:\n",
        "      print(f\"{lst2[j]} is a common item between the two lists\")"
      ]
    },
    {
      "cell_type": "code",
      "execution_count": null,
      "metadata": {
        "colab": {
          "base_uri": "https://localhost:8080/"
        },
        "id": "P092PPTsuDae",
        "outputId": "87d6e082-09e3-4462-fb46-a7de9bccd70b"
      },
      "outputs": [
        {
          "name": "stdout",
          "output_type": "stream",
          "text": [
            "5\n",
            "factorial of 5 = 120\n"
          ]
        }
      ],
      "source": [
        "num = int(input())\n",
        "i = num\n",
        "fact = 1\n",
        "while i > 0:\n",
        "  fact *= i\n",
        "  i -= 1\n",
        "print(f\"factorial of {num} = {fact}\")"
      ]
    },
    {
      "cell_type": "code",
      "execution_count": null,
      "metadata": {
        "id": "SPrdBKVxu7aa",
        "colab": {
          "base_uri": "https://localhost:8080/"
        },
        "outputId": "f074a3cb-4d45-4250-edf2-ae812e39527b"
      },
      "outputs": [
        {
          "name": "stdout",
          "output_type": "stream",
          "text": [
            "2\n",
            "1\n",
            "10\n",
            "11\n"
          ]
        }
      ],
      "source": [
        "while True:\n",
        "  num = int(input())\n",
        "  if num > 10:\n",
        "    break"
      ]
    },
    {
      "cell_type": "code",
      "execution_count": null,
      "metadata": {
        "colab": {
          "base_uri": "https://localhost:8080/"
        },
        "id": "yboyawNhvfGS",
        "outputId": "0ee62cb0-b018-4462-eb95-57c2c0b87699"
      },
      "outputs": [
        {
          "output_type": "stream",
          "name": "stdout",
          "text": [
            "345\n",
            "12.0\n"
          ]
        }
      ],
      "source": [
        "sum = 0\n",
        "num = int(input())\n",
        "while num > 10:\n",
        "    sum += (num%10)\n",
        "    num -= (num%10)\n",
        "    num /= 10\n",
        "sum += num\n",
        "print(sum)"
      ]
    },
    {
      "cell_type": "code",
      "execution_count": null,
      "metadata": {
        "id": "VijRWMb_xK4k"
      },
      "outputs": [],
      "source": [
        "word = input()\n",
        "rev_word = \"\"\n",
        "i = len(word) - 1\n",
        "while i >= 0:\n",
        "  rev_word += word[i]\n",
        "  i -= 1\n",
        "if rev_word == word:\n",
        "  print(f\"'{word}' is plaindrome\")\n",
        "else:\n",
        "  print(f\"'{word}' is not plaindrome\")"
      ]
    },
    {
      "cell_type": "code",
      "execution_count": null,
      "metadata": {
        "id": "ah9gFC3lx-iH"
      },
      "outputs": [],
      "source": [
        "# Dictionary from 2 list !!!!!!!"
      ]
    },
    {
      "cell_type": "code",
      "execution_count": null,
      "metadata": {
        "id": "4BCttLzKyGsn",
        "colab": {
          "base_uri": "https://localhost:8080/"
        },
        "outputId": "96a8e65f-85a4-41b2-b445-5d743a79f06a"
      },
      "outputs": [
        {
          "output_type": "stream",
          "name": "stdout",
          "text": [
            "username: Abdelrahman_Wael\n",
            "password: 12345678\n",
            "Login successfully\n"
          ]
        }
      ],
      "source": [
        "true_username = \"Abdelrahman_Wael\"\n",
        "true_password = \"12345678\"\n",
        "username = input(\"username: \")\n",
        "password = input(\"password: \")\n",
        "if username == true_username and password == true_password:\n",
        "  print(\"Login successfully\")\n",
        "else:\n",
        "  print(\"!username or password is incorrect\")"
      ]
    },
    {
      "cell_type": "code",
      "execution_count": null,
      "metadata": {
        "id": "Lt6oyRx5y8Nd",
        "colab": {
          "base_uri": "https://localhost:8080/"
        },
        "outputId": "50be14ac-d202-4605-9a30-287a8d38f9ae"
      },
      "outputs": [
        {
          "output_type": "stream",
          "name": "stdout",
          "text": [
            "5\n",
            "5 * 1 = 5\n",
            "5 * 2 = 10\n",
            "5 * 3 = 15\n",
            "5 * 4 = 20\n",
            "5 * 5 = 25\n",
            "5 * 6 = 30\n",
            "5 * 7 = 35\n",
            "5 * 8 = 40\n",
            "5 * 9 = 45\n"
          ]
        }
      ],
      "source": [
        "num = int(input())\n",
        "for i in range(1, 10):\n",
        "  print(f\"{num} * {i} = {num * i}\")"
      ]
    },
    {
      "cell_type": "code",
      "source": [],
      "metadata": {
        "id": "WxQkIIpC6wdg"
      },
      "execution_count": null,
      "outputs": []
    }
  ],
  "metadata": {
    "colab": {
      "provenance": []
    },
    "kernelspec": {
      "display_name": "Python 3",
      "name": "python3"
    },
    "language_info": {
      "name": "python"
    }
  },
  "nbformat": 4,
  "nbformat_minor": 0
}